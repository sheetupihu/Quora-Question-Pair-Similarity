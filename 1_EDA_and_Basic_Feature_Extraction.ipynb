{
  "cells": [
    {
      "cell_type": "markdown",
      "metadata": {
        "id": "Nipx1vhSTUmz"
      },
      "source": [
        "# Introduction\n",
        "<p>Quora is a place to gain and share knowledge—about anything. It’s a platform to ask questions and connect with people who contribute unique insights and quality answers. This empowers people to learn from each other and to better understand the world.</p>\n",
        "<p>\n",
        "Over 100 million people visit Quora every month, so it's no surprise that many people ask similarly worded questions. Multiple questions with the same intent can cause seekers to spend more time finding the best answer to their question, and make writers feel they need to answer multiple versions of the same question. Quora values canonical questions because they provide a better experience to active seekers and writers, and offer more value to both of these groups in the long term.\n",
        "</p>\n",
        "<br>\n",
        "\n"
      ]
    },
    {
      "cell_type": "markdown",
      "metadata": {
        "id": "OoDC1CRNUGbC"
      },
      "source": [
        "## Business Objective\n",
        "1. The cost of a mis-classification can be very high.\n",
        "2. You would want a probability of a pair of questions to be duplicates so that you can choose any threshold of choice.\n",
        "3. No strict latency concerns.\n",
        "4. Interpretability is partially important."
      ]
    },
    {
      "cell_type": "markdown",
      "metadata": {
        "id": "Wx5mJtVjUHu5"
      },
      "source": [
        "## About the Dataset\n",
        "1. Available Columns: id, qid1, qid2, question1, question2, is_duplicate\n",
        "2. Class labels: 0, 1\n",
        "3. Total training data / No. of rows: 404290\n",
        "4. No. of columns: 6\n",
        "5. is_duplicate is the dependent variable.\n",
        "6. No. of non-duplicate data points is 255027\n",
        "7. No. of duplicate data points is 149263\n",
        "\n",
        "We have 404290 training data points. And only 36.92% are positive. That means it is an imbalanced dataset."
      ]
    },
    {
      "cell_type": "markdown",
      "metadata": {
        "id": "EqDYaOc8Upc7"
      },
      "source": [
        "# 1. Exploratory Data Analysis "
      ]
    },
    {
      "cell_type": "code",
      "execution_count": null,
      "metadata": {
        "colab": {
          "base_uri": "https://localhost:8080/"
        },
        "id": "SeJMzTUc8f7m",
        "outputId": "348b31f4-69e0-4538-d3e2-bbd7b908929e"
      },
      "outputs": [
        {
          "output_type": "stream",
          "name": "stdout",
          "text": [
            "Looking in indexes: https://pypi.org/simple, https://us-python.pkg.dev/colab-wheels/public/simple/\n",
            "Requirement already satisfied: distance in /usr/local/lib/python3.7/dist-packages (0.1.3)\n"
          ]
        }
      ],
      "source": [
        "!pip install distance"
      ]
    },
    {
      "cell_type": "code",
      "execution_count": null,
      "metadata": {
        "colab": {
          "base_uri": "https://localhost:8080/",
          "height": 17
        },
        "id": "05nq4u7j7ial",
        "outputId": "adaf6377-2344-48cd-d5db-66fbb631225f"
      },
      "outputs": [
        {
          "output_type": "display_data",
          "data": {
            "text/html": [
              "        <script type=\"text/javascript\">\n",
              "        window.PlotlyConfig = {MathJaxConfig: 'local'};\n",
              "        if (window.MathJax) {MathJax.Hub.Config({SVG: {font: \"STIX-Web\"}});}\n",
              "        if (typeof require !== 'undefined') {\n",
              "        require.undef(\"plotly\");\n",
              "        requirejs.config({\n",
              "            paths: {\n",
              "                'plotly': ['https://cdn.plot.ly/plotly-2.8.3.min']\n",
              "            }\n",
              "        });\n",
              "        require(['plotly'], function(Plotly) {\n",
              "            window._Plotly = Plotly;\n",
              "        });\n",
              "        }\n",
              "        </script>\n",
              "        "
            ]
          },
          "metadata": {}
        }
      ],
      "source": [
        "import numpy as np\n",
        "import pandas as pd\n",
        "import matplotlib.pyplot as plt\n",
        "import seaborn as sb\n",
        "%matplotlib inline\n",
        "from subprocess import check_output\n",
        "import os\n",
        "import re\n",
        "import gc\n",
        "import plotly.offline as py\n",
        "py.init_notebook_mode(connected=True)\n",
        "import plotly.graph_objs as go\n",
        "import plotly.tools as tls\n",
        "import distance\n",
        "\n",
        "from nltk.corpus import stopwords\n",
        "from nltk.stem import PorterStemmer\n",
        "from bs4 import BeautifulSoup"
      ]
    },
    {
      "cell_type": "code",
      "execution_count": null,
      "metadata": {
        "colab": {
          "base_uri": "https://localhost:8080/",
          "height": 337
        },
        "id": "SlRcNhAp84m0",
        "outputId": "ac5df3d4-2ea0-44af-9b2e-86db4fb898ab"
      },
      "outputs": [
        {
          "output_type": "execute_result",
          "data": {
            "text/plain": [
              "   id  qid1  qid2                                          question1  \\\n",
              "0   0     1     2  What is the step by step guide to invest in sh...   \n",
              "1   1     3     4  What is the story of Kohinoor (Koh-i-Noor) Dia...   \n",
              "2   2     5     6  How can I increase the speed of my internet co...   \n",
              "3   3     7     8  Why am I mentally very lonely? How can I solve...   \n",
              "4   4     9    10  Which one dissolve in water quikly sugar, salt...   \n",
              "\n",
              "                                           question2  is_duplicate  \n",
              "0  What is the step by step guide to invest in sh...             0  \n",
              "1  What would happen if the Indian government sto...             0  \n",
              "2  How can Internet speed be increased by hacking...             0  \n",
              "3  Find the remainder when [math]23^{24}[/math] i...             0  \n",
              "4            Which fish would survive in salt water?             0  "
            ],
            "text/html": [
              "\n",
              "  <div id=\"df-bd158c3b-9471-4d50-9180-817592b03288\">\n",
              "    <div class=\"colab-df-container\">\n",
              "      <div>\n",
              "<style scoped>\n",
              "    .dataframe tbody tr th:only-of-type {\n",
              "        vertical-align: middle;\n",
              "    }\n",
              "\n",
              "    .dataframe tbody tr th {\n",
              "        vertical-align: top;\n",
              "    }\n",
              "\n",
              "    .dataframe thead th {\n",
              "        text-align: right;\n",
              "    }\n",
              "</style>\n",
              "<table border=\"1\" class=\"dataframe\">\n",
              "  <thead>\n",
              "    <tr style=\"text-align: right;\">\n",
              "      <th></th>\n",
              "      <th>id</th>\n",
              "      <th>qid1</th>\n",
              "      <th>qid2</th>\n",
              "      <th>question1</th>\n",
              "      <th>question2</th>\n",
              "      <th>is_duplicate</th>\n",
              "    </tr>\n",
              "  </thead>\n",
              "  <tbody>\n",
              "    <tr>\n",
              "      <th>0</th>\n",
              "      <td>0</td>\n",
              "      <td>1</td>\n",
              "      <td>2</td>\n",
              "      <td>What is the step by step guide to invest in sh...</td>\n",
              "      <td>What is the step by step guide to invest in sh...</td>\n",
              "      <td>0</td>\n",
              "    </tr>\n",
              "    <tr>\n",
              "      <th>1</th>\n",
              "      <td>1</td>\n",
              "      <td>3</td>\n",
              "      <td>4</td>\n",
              "      <td>What is the story of Kohinoor (Koh-i-Noor) Dia...</td>\n",
              "      <td>What would happen if the Indian government sto...</td>\n",
              "      <td>0</td>\n",
              "    </tr>\n",
              "    <tr>\n",
              "      <th>2</th>\n",
              "      <td>2</td>\n",
              "      <td>5</td>\n",
              "      <td>6</td>\n",
              "      <td>How can I increase the speed of my internet co...</td>\n",
              "      <td>How can Internet speed be increased by hacking...</td>\n",
              "      <td>0</td>\n",
              "    </tr>\n",
              "    <tr>\n",
              "      <th>3</th>\n",
              "      <td>3</td>\n",
              "      <td>7</td>\n",
              "      <td>8</td>\n",
              "      <td>Why am I mentally very lonely? How can I solve...</td>\n",
              "      <td>Find the remainder when [math]23^{24}[/math] i...</td>\n",
              "      <td>0</td>\n",
              "    </tr>\n",
              "    <tr>\n",
              "      <th>4</th>\n",
              "      <td>4</td>\n",
              "      <td>9</td>\n",
              "      <td>10</td>\n",
              "      <td>Which one dissolve in water quikly sugar, salt...</td>\n",
              "      <td>Which fish would survive in salt water?</td>\n",
              "      <td>0</td>\n",
              "    </tr>\n",
              "  </tbody>\n",
              "</table>\n",
              "</div>\n",
              "      <button class=\"colab-df-convert\" onclick=\"convertToInteractive('df-bd158c3b-9471-4d50-9180-817592b03288')\"\n",
              "              title=\"Convert this dataframe to an interactive table.\"\n",
              "              style=\"display:none;\">\n",
              "        \n",
              "  <svg xmlns=\"http://www.w3.org/2000/svg\" height=\"24px\"viewBox=\"0 0 24 24\"\n",
              "       width=\"24px\">\n",
              "    <path d=\"M0 0h24v24H0V0z\" fill=\"none\"/>\n",
              "    <path d=\"M18.56 5.44l.94 2.06.94-2.06 2.06-.94-2.06-.94-.94-2.06-.94 2.06-2.06.94zm-11 1L8.5 8.5l.94-2.06 2.06-.94-2.06-.94L8.5 2.5l-.94 2.06-2.06.94zm10 10l.94 2.06.94-2.06 2.06-.94-2.06-.94-.94-2.06-.94 2.06-2.06.94z\"/><path d=\"M17.41 7.96l-1.37-1.37c-.4-.4-.92-.59-1.43-.59-.52 0-1.04.2-1.43.59L10.3 9.45l-7.72 7.72c-.78.78-.78 2.05 0 2.83L4 21.41c.39.39.9.59 1.41.59.51 0 1.02-.2 1.41-.59l7.78-7.78 2.81-2.81c.8-.78.8-2.07 0-2.86zM5.41 20L4 18.59l7.72-7.72 1.47 1.35L5.41 20z\"/>\n",
              "  </svg>\n",
              "      </button>\n",
              "      \n",
              "  <style>\n",
              "    .colab-df-container {\n",
              "      display:flex;\n",
              "      flex-wrap:wrap;\n",
              "      gap: 12px;\n",
              "    }\n",
              "\n",
              "    .colab-df-convert {\n",
              "      background-color: #E8F0FE;\n",
              "      border: none;\n",
              "      border-radius: 50%;\n",
              "      cursor: pointer;\n",
              "      display: none;\n",
              "      fill: #1967D2;\n",
              "      height: 32px;\n",
              "      padding: 0 0 0 0;\n",
              "      width: 32px;\n",
              "    }\n",
              "\n",
              "    .colab-df-convert:hover {\n",
              "      background-color: #E2EBFA;\n",
              "      box-shadow: 0px 1px 2px rgba(60, 64, 67, 0.3), 0px 1px 3px 1px rgba(60, 64, 67, 0.15);\n",
              "      fill: #174EA6;\n",
              "    }\n",
              "\n",
              "    [theme=dark] .colab-df-convert {\n",
              "      background-color: #3B4455;\n",
              "      fill: #D2E3FC;\n",
              "    }\n",
              "\n",
              "    [theme=dark] .colab-df-convert:hover {\n",
              "      background-color: #434B5C;\n",
              "      box-shadow: 0px 1px 3px 1px rgba(0, 0, 0, 0.15);\n",
              "      filter: drop-shadow(0px 1px 2px rgba(0, 0, 0, 0.3));\n",
              "      fill: #FFFFFF;\n",
              "    }\n",
              "  </style>\n",
              "\n",
              "      <script>\n",
              "        const buttonEl =\n",
              "          document.querySelector('#df-bd158c3b-9471-4d50-9180-817592b03288 button.colab-df-convert');\n",
              "        buttonEl.style.display =\n",
              "          google.colab.kernel.accessAllowed ? 'block' : 'none';\n",
              "\n",
              "        async function convertToInteractive(key) {\n",
              "          const element = document.querySelector('#df-bd158c3b-9471-4d50-9180-817592b03288');\n",
              "          const dataTable =\n",
              "            await google.colab.kernel.invokeFunction('convertToInteractive',\n",
              "                                                     [key], {});\n",
              "          if (!dataTable) return;\n",
              "\n",
              "          const docLinkHtml = 'Like what you see? Visit the ' +\n",
              "            '<a target=\"_blank\" href=https://colab.research.google.com/notebooks/data_table.ipynb>data table notebook</a>'\n",
              "            + ' to learn more about interactive tables.';\n",
              "          element.innerHTML = '';\n",
              "          dataTable['output_type'] = 'display_data';\n",
              "          await google.colab.output.renderOutput(dataTable, element);\n",
              "          const docLink = document.createElement('div');\n",
              "          docLink.innerHTML = docLinkHtml;\n",
              "          element.appendChild(docLink);\n",
              "        }\n",
              "      </script>\n",
              "    </div>\n",
              "  </div>\n",
              "  "
            ]
          },
          "metadata": {},
          "execution_count": 3
        }
      ],
      "source": [
        "# load the dataset\n",
        "df = pd.read_csv(\"/content/drive/MyDrive/quora_train.csv\")\n",
        "df.head()"
      ]
    },
    {
      "cell_type": "code",
      "execution_count": null,
      "metadata": {
        "colab": {
          "base_uri": "https://localhost:8080/"
        },
        "id": "HgK4qCgMxNI6",
        "outputId": "aba8b3db-1ec6-4218-c6b2-6bc65364825a"
      },
      "outputs": [
        {
          "output_type": "stream",
          "name": "stdout",
          "text": [
            "Number of data points: 404290\n"
          ]
        }
      ],
      "source": [
        "print(\"Number of data points:\",df.shape[0])"
      ]
    },
    {
      "cell_type": "code",
      "execution_count": null,
      "metadata": {
        "colab": {
          "base_uri": "https://localhost:8080/",
          "height": 300
        },
        "id": "UBZ9ALfNxguA",
        "outputId": "eb61cd8f-3383-4cfe-8248-fbafbed7bf54"
      },
      "outputs": [
        {
          "output_type": "execute_result",
          "data": {
            "text/plain": [
              "                  id           qid1           qid2   is_duplicate\n",
              "count  404290.000000  404290.000000  404290.000000  404290.000000\n",
              "mean   202144.500000  217243.942418  220955.655337       0.369198\n",
              "std    116708.614503  157751.700002  159903.182629       0.482588\n",
              "min         0.000000       1.000000       2.000000       0.000000\n",
              "25%    101072.250000   74437.500000   74727.000000       0.000000\n",
              "50%    202144.500000  192182.000000  197052.000000       0.000000\n",
              "75%    303216.750000  346573.500000  354692.500000       1.000000\n",
              "max    404289.000000  537932.000000  537933.000000       1.000000"
            ],
            "text/html": [
              "\n",
              "  <div id=\"df-19597a79-eae7-4afa-825d-b84e9cc1fc60\">\n",
              "    <div class=\"colab-df-container\">\n",
              "      <div>\n",
              "<style scoped>\n",
              "    .dataframe tbody tr th:only-of-type {\n",
              "        vertical-align: middle;\n",
              "    }\n",
              "\n",
              "    .dataframe tbody tr th {\n",
              "        vertical-align: top;\n",
              "    }\n",
              "\n",
              "    .dataframe thead th {\n",
              "        text-align: right;\n",
              "    }\n",
              "</style>\n",
              "<table border=\"1\" class=\"dataframe\">\n",
              "  <thead>\n",
              "    <tr style=\"text-align: right;\">\n",
              "      <th></th>\n",
              "      <th>id</th>\n",
              "      <th>qid1</th>\n",
              "      <th>qid2</th>\n",
              "      <th>is_duplicate</th>\n",
              "    </tr>\n",
              "  </thead>\n",
              "  <tbody>\n",
              "    <tr>\n",
              "      <th>count</th>\n",
              "      <td>404290.000000</td>\n",
              "      <td>404290.000000</td>\n",
              "      <td>404290.000000</td>\n",
              "      <td>404290.000000</td>\n",
              "    </tr>\n",
              "    <tr>\n",
              "      <th>mean</th>\n",
              "      <td>202144.500000</td>\n",
              "      <td>217243.942418</td>\n",
              "      <td>220955.655337</td>\n",
              "      <td>0.369198</td>\n",
              "    </tr>\n",
              "    <tr>\n",
              "      <th>std</th>\n",
              "      <td>116708.614503</td>\n",
              "      <td>157751.700002</td>\n",
              "      <td>159903.182629</td>\n",
              "      <td>0.482588</td>\n",
              "    </tr>\n",
              "    <tr>\n",
              "      <th>min</th>\n",
              "      <td>0.000000</td>\n",
              "      <td>1.000000</td>\n",
              "      <td>2.000000</td>\n",
              "      <td>0.000000</td>\n",
              "    </tr>\n",
              "    <tr>\n",
              "      <th>25%</th>\n",
              "      <td>101072.250000</td>\n",
              "      <td>74437.500000</td>\n",
              "      <td>74727.000000</td>\n",
              "      <td>0.000000</td>\n",
              "    </tr>\n",
              "    <tr>\n",
              "      <th>50%</th>\n",
              "      <td>202144.500000</td>\n",
              "      <td>192182.000000</td>\n",
              "      <td>197052.000000</td>\n",
              "      <td>0.000000</td>\n",
              "    </tr>\n",
              "    <tr>\n",
              "      <th>75%</th>\n",
              "      <td>303216.750000</td>\n",
              "      <td>346573.500000</td>\n",
              "      <td>354692.500000</td>\n",
              "      <td>1.000000</td>\n",
              "    </tr>\n",
              "    <tr>\n",
              "      <th>max</th>\n",
              "      <td>404289.000000</td>\n",
              "      <td>537932.000000</td>\n",
              "      <td>537933.000000</td>\n",
              "      <td>1.000000</td>\n",
              "    </tr>\n",
              "  </tbody>\n",
              "</table>\n",
              "</div>\n",
              "      <button class=\"colab-df-convert\" onclick=\"convertToInteractive('df-19597a79-eae7-4afa-825d-b84e9cc1fc60')\"\n",
              "              title=\"Convert this dataframe to an interactive table.\"\n",
              "              style=\"display:none;\">\n",
              "        \n",
              "  <svg xmlns=\"http://www.w3.org/2000/svg\" height=\"24px\"viewBox=\"0 0 24 24\"\n",
              "       width=\"24px\">\n",
              "    <path d=\"M0 0h24v24H0V0z\" fill=\"none\"/>\n",
              "    <path d=\"M18.56 5.44l.94 2.06.94-2.06 2.06-.94-2.06-.94-.94-2.06-.94 2.06-2.06.94zm-11 1L8.5 8.5l.94-2.06 2.06-.94-2.06-.94L8.5 2.5l-.94 2.06-2.06.94zm10 10l.94 2.06.94-2.06 2.06-.94-2.06-.94-.94-2.06-.94 2.06-2.06.94z\"/><path d=\"M17.41 7.96l-1.37-1.37c-.4-.4-.92-.59-1.43-.59-.52 0-1.04.2-1.43.59L10.3 9.45l-7.72 7.72c-.78.78-.78 2.05 0 2.83L4 21.41c.39.39.9.59 1.41.59.51 0 1.02-.2 1.41-.59l7.78-7.78 2.81-2.81c.8-.78.8-2.07 0-2.86zM5.41 20L4 18.59l7.72-7.72 1.47 1.35L5.41 20z\"/>\n",
              "  </svg>\n",
              "      </button>\n",
              "      \n",
              "  <style>\n",
              "    .colab-df-container {\n",
              "      display:flex;\n",
              "      flex-wrap:wrap;\n",
              "      gap: 12px;\n",
              "    }\n",
              "\n",
              "    .colab-df-convert {\n",
              "      background-color: #E8F0FE;\n",
              "      border: none;\n",
              "      border-radius: 50%;\n",
              "      cursor: pointer;\n",
              "      display: none;\n",
              "      fill: #1967D2;\n",
              "      height: 32px;\n",
              "      padding: 0 0 0 0;\n",
              "      width: 32px;\n",
              "    }\n",
              "\n",
              "    .colab-df-convert:hover {\n",
              "      background-color: #E2EBFA;\n",
              "      box-shadow: 0px 1px 2px rgba(60, 64, 67, 0.3), 0px 1px 3px 1px rgba(60, 64, 67, 0.15);\n",
              "      fill: #174EA6;\n",
              "    }\n",
              "\n",
              "    [theme=dark] .colab-df-convert {\n",
              "      background-color: #3B4455;\n",
              "      fill: #D2E3FC;\n",
              "    }\n",
              "\n",
              "    [theme=dark] .colab-df-convert:hover {\n",
              "      background-color: #434B5C;\n",
              "      box-shadow: 0px 1px 3px 1px rgba(0, 0, 0, 0.15);\n",
              "      filter: drop-shadow(0px 1px 2px rgba(0, 0, 0, 0.3));\n",
              "      fill: #FFFFFF;\n",
              "    }\n",
              "  </style>\n",
              "\n",
              "      <script>\n",
              "        const buttonEl =\n",
              "          document.querySelector('#df-19597a79-eae7-4afa-825d-b84e9cc1fc60 button.colab-df-convert');\n",
              "        buttonEl.style.display =\n",
              "          google.colab.kernel.accessAllowed ? 'block' : 'none';\n",
              "\n",
              "        async function convertToInteractive(key) {\n",
              "          const element = document.querySelector('#df-19597a79-eae7-4afa-825d-b84e9cc1fc60');\n",
              "          const dataTable =\n",
              "            await google.colab.kernel.invokeFunction('convertToInteractive',\n",
              "                                                     [key], {});\n",
              "          if (!dataTable) return;\n",
              "\n",
              "          const docLinkHtml = 'Like what you see? Visit the ' +\n",
              "            '<a target=\"_blank\" href=https://colab.research.google.com/notebooks/data_table.ipynb>data table notebook</a>'\n",
              "            + ' to learn more about interactive tables.';\n",
              "          element.innerHTML = '';\n",
              "          dataTable['output_type'] = 'display_data';\n",
              "          await google.colab.output.renderOutput(dataTable, element);\n",
              "          const docLink = document.createElement('div');\n",
              "          docLink.innerHTML = docLinkHtml;\n",
              "          element.appendChild(docLink);\n",
              "        }\n",
              "      </script>\n",
              "    </div>\n",
              "  </div>\n",
              "  "
            ]
          },
          "metadata": {},
          "execution_count": 5
        }
      ],
      "source": [
        "# dataset description\n",
        "df.describe()"
      ]
    },
    {
      "cell_type": "code",
      "execution_count": null,
      "metadata": {
        "colab": {
          "base_uri": "https://localhost:8080/"
        },
        "id": "_ENXZMJqxtfM",
        "outputId": "1df21e9e-3766-4791-d9ec-2a6c8c25a16b"
      },
      "outputs": [
        {
          "output_type": "stream",
          "name": "stdout",
          "text": [
            "<class 'pandas.core.frame.DataFrame'>\n",
            "RangeIndex: 404290 entries, 0 to 404289\n",
            "Data columns (total 6 columns):\n",
            " #   Column        Non-Null Count   Dtype \n",
            "---  ------        --------------   ----- \n",
            " 0   id            404290 non-null  int64 \n",
            " 1   qid1          404290 non-null  int64 \n",
            " 2   qid2          404290 non-null  int64 \n",
            " 3   question1     404289 non-null  object\n",
            " 4   question2     404288 non-null  object\n",
            " 5   is_duplicate  404290 non-null  int64 \n",
            "dtypes: int64(4), object(2)\n",
            "memory usage: 18.5+ MB\n"
          ]
        }
      ],
      "source": [
        "# information about the attributes of the dataset\n",
        "df.info()"
      ]
    },
    {
      "cell_type": "markdown",
      "metadata": {
        "id": "6cvHkvS0gSxN"
      },
      "source": [
        "## 1. Distribution of data points among output classes\n",
        "- Number of duplicate(smilar) and non-duplicate(non similar) questions"
      ]
    },
    {
      "cell_type": "code",
      "execution_count": null,
      "metadata": {
        "colab": {
          "base_uri": "https://localhost:8080/",
          "height": 294
        },
        "id": "MZnLyos28XT1",
        "outputId": "ec9381b6-225f-4433-ff97-f2ad5f56e5fc"
      },
      "outputs": [
        {
          "output_type": "execute_result",
          "data": {
            "text/plain": [
              "<matplotlib.axes._subplots.AxesSubplot at 0x7f74749cc890>"
            ]
          },
          "metadata": {},
          "execution_count": 7
        },
        {
          "output_type": "display_data",
          "data": {
            "text/plain": [
              "<Figure size 432x288 with 1 Axes>"
            ],
            "image/png": "[encoded data removed]"
          },
          "metadata": {
            "needs_background": "light"
          }
        }
      ],
      "source": [
        "# Barplot to see the number of duplicates and unique questions\n",
        "\n",
        "df.groupby(\"is_duplicate\")['id'].count().plot.bar()"
      ]
    },
    {
      "cell_type": "code",
      "execution_count": null,
      "metadata": {
        "colab": {
          "base_uri": "https://localhost:8080/"
        },
        "id": "aJ_xzN359V9F",
        "outputId": "70acd5ba-06bd-4c78-85cd-7f2229e44bac"
      },
      "outputs": [
        {
          "output_type": "stream",
          "name": "stdout",
          "text": [
            "~> Total number of question pairs for training: 404290\n"
          ]
        }
      ],
      "source": [
        "# Total number of question pairs for training...\n",
        "\n",
        "print('~> Total number of question pairs for training: {}'.format(len(df)))"
      ]
    },
    {
      "cell_type": "code",
      "execution_count": null,
      "metadata": {
        "colab": {
          "base_uri": "https://localhost:8080/"
        },
        "id": "eGkZgiHmfcy_",
        "outputId": "9d14fb2d-7bd0-4372-b5aa-302e0768c487"
      },
      "outputs": [
        {
          "output_type": "stream",
          "name": "stdout",
          "text": [
            "~> Question pairs are not Similar (is_duplicate = 0): 63.08%\n",
            "~> Question pairs are Similar (is_duplicate = 1): 36.92%\n"
          ]
        }
      ],
      "source": [
        "print('~> Question pairs are not Similar (is_duplicate = 0): {}%'.format(100 - round(df['is_duplicate'].mean()*100, 2)))\n",
        "print('~> Question pairs are Similar (is_duplicate = 1): {}%'.format(round(df['is_duplicate'].mean()*100, 2)))"
      ]
    },
    {
      "cell_type": "markdown",
      "metadata": {
        "id": "6kiiG-l7gZKm"
      },
      "source": [
        "## 2. Number of unique questions"
      ]
    },
    {
      "cell_type": "code",
      "execution_count": null,
      "metadata": {
        "colab": {
          "base_uri": "https://localhost:8080/"
        },
        "id": "XQ3qNNZsgCHl",
        "outputId": "1272192b-d4f7-403c-edfc-85195b42f925"
      },
      "outputs": [
        {
          "output_type": "stream",
          "name": "stdout",
          "text": [
            "Total number of  Unique Questions are: 537933\n"
          ]
        }
      ],
      "source": [
        "qids = pd.Series(df['qid1'].tolist() + df['qid2'].tolist()) \n",
        "unique_qid = len(np.unique(qids))\n",
        "print ('Total number of  Unique Questions are: {}'.format(unique_qid))"
      ]
    },
    {
      "cell_type": "code",
      "execution_count": null,
      "metadata": {
        "colab": {
          "base_uri": "https://localhost:8080/"
        },
        "id": "tzC6WZ_IhqcV",
        "outputId": "c5f63bce-581b-417f-874b-a149a4a9c010"
      },
      "outputs": [
        {
          "output_type": "stream",
          "name": "stdout",
          "text": [
            "Number of unique questions that appear more than one time: 111780 (20.77953945937505%)\n",
            "Max number of times a single question is repeated: 157\n",
            "\n"
          ]
        }
      ],
      "source": [
        "ques_more_than_one_time = np.sum(qids.value_counts() > 1)\n",
        "print ('Number of unique questions that appear more than one time: {} ({}%)'.format(ques_more_than_one_time,(ques_more_than_one_time/unique_qid)*100))\n",
        "\n",
        "print ('Max number of times a single question is repeated: {}\\n'.format(max(qids.value_counts())))\n",
        "\n",
        "qid_valcount = qids.value_counts()\n",
        "qid_value = qid_valcount.values"
      ]
    },
    {
      "cell_type": "code",
      "execution_count": null,
      "metadata": {
        "colab": {
          "base_uri": "https://localhost:8080/",
          "height": 479
        },
        "id": "OQFKGbVrjWZ1",
        "outputId": "c3abd508-2304-453a-8427-a6ed42f298ad"
      },
      "outputs": [
        {
          "output_type": "stream",
          "name": "stderr",
          "text": [
            "/usr/local/lib/python3.7/dist-packages/seaborn/_decorators.py:43: FutureWarning:\n",
            "\n",
            "Pass the following variables as keyword args: x, y. From version 0.12, the only valid positional argument will be `data`, and passing other arguments without an explicit keyword will result in an error or misinterpretation.\n",
            "\n"
          ]
        },
        {
          "output_type": "display_data",
          "data": {
            "text/plain": [
              "<Figure size 720x432 with 1 Axes>"
            ],
            "image/png": "[encoded data removed]"
          },
          "metadata": {
            "needs_background": "light"
          }
        }
      ],
      "source": [
        "x = ['Repeated Questions', 'Unique Questions']\n",
        "y = [ques_more_than_one_time, unique_qid]\n",
        "plt.figure(figsize=(10, 6))\n",
        "plt.title (\"Plot representing unique and repeated questions  \")\n",
        "sb.barplot(x,y)\n",
        "plt.show()"
      ]
    },
    {
      "cell_type": "markdown",
      "metadata": {
        "id": "WU27hdZqjtpv"
      },
      "source": [
        "## 3. Checking for Duplicates"
      ]
    },
    {
      "cell_type": "code",
      "execution_count": null,
      "metadata": {
        "colab": {
          "base_uri": "https://localhost:8080/"
        },
        "id": "rDPudVRMjpA4",
        "outputId": "6079bba4-1501-47a9-83be-a9b0bcdd0387"
      },
      "outputs": [
        {
          "output_type": "stream",
          "name": "stdout",
          "text": [
            "Number of duplicate questions: 0\n"
          ]
        }
      ],
      "source": [
        "duplicate_pairs = df[['id','qid1','qid2']].groupby(['qid1','qid2']).count().reset_index()\n",
        "print (\"Number of duplicate questions: {}\".format((duplicate_pairs).shape[0] - df.shape[0]))"
      ]
    },
    {
      "cell_type": "markdown",
      "metadata": {
        "id": "CKMKteMolHOm"
      },
      "source": [
        "## 4. Number of occurrences of each question"
      ]
    },
    {
      "cell_type": "code",
      "execution_count": null,
      "metadata": {
        "colab": {
          "base_uri": "https://localhost:8080/",
          "height": 494
        },
        "id": "SmR_Q0O0kw1s",
        "outputId": "f881e21b-1138-4ca3-9919-3aeb2c2e02e7"
      },
      "outputs": [
        {
          "output_type": "stream",
          "name": "stdout",
          "text": [
            "Maximum number of times a single question is repeated: 157\n",
            "\n"
          ]
        },
        {
          "output_type": "display_data",
          "data": {
            "text/plain": [
              "<Figure size 1440x720 with 1 Axes>"
            ],
            "image/png": "[encoded data removed]"
          },
          "metadata": {
            "needs_background": "light"
          }
        }
      ],
      "source": [
        "plt.figure(figsize=(20, 10))\n",
        "plt.hist(qids.value_counts(),bins=160)\n",
        "plt.yscale('log',nonposy='clip')\n",
        "plt.title('Log-Histogram of question appearance counts')\n",
        "plt.xlabel('Number of occurences of question')\n",
        "plt.ylabel('Number of questions')\n",
        "print ('Maximum number of times a single question is repeated: {}\\n'.format(max(qids.value_counts()))) "
      ]
    },
    {
      "cell_type": "markdown",
      "metadata": {
        "id": "OqhqVsx2moa7"
      },
      "source": [
        "## 5. Checking for NULL values"
      ]
    },
    {
      "cell_type": "code",
      "execution_count": null,
      "metadata": {
        "colab": {
          "base_uri": "https://localhost:8080/"
        },
        "id": "w4r1WNMdmjaY",
        "outputId": "2c0866ee-57a8-48ff-b5f6-5a633ded2191"
      },
      "outputs": [
        {
          "output_type": "stream",
          "name": "stdout",
          "text": [
            "            id    qid1    qid2                         question1  \\\n",
            "105780  105780  174363  174364    How can I develop android app?   \n",
            "201841  201841  303951  174364  How can I create an Android app?   \n",
            "363362  363362  493340  493341                               NaN   \n",
            "\n",
            "                                                question2  is_duplicate  \n",
            "105780                                                NaN             0  \n",
            "201841                                                NaN             0  \n",
            "363362  My Chinese name is Haichao Yu. What English na...             0  \n"
          ]
        }
      ],
      "source": [
        "#Checking whether there are any rows with null values\n",
        "\n",
        "nan_rows = df[df.isnull().any(1)]\n",
        "print(nan_rows)"
      ]
    },
    {
      "cell_type": "code",
      "execution_count": null,
      "metadata": {
        "colab": {
          "base_uri": "https://localhost:8080/"
        },
        "id": "-UMmrbZbm7Ci",
        "outputId": "a345df08-0120-4218-b1bc-1d2503d0aca4"
      },
      "outputs": [
        {
          "output_type": "stream",
          "name": "stdout",
          "text": [
            "Empty DataFrame\n",
            "Columns: [id, qid1, qid2, question1, question2, is_duplicate]\n",
            "Index: []\n"
          ]
        }
      ],
      "source": [
        "# Filling the null values with ' '\n",
        "\n",
        "df = df.fillna(' ')\n",
        "nan_rows = df[df.isnull().any(1)]\n",
        "print (nan_rows)"
      ]
    },
    {
      "cell_type": "markdown",
      "metadata": {
        "id": "oMYw2lu1oSCg"
      },
      "source": [
        "# 2. Basic Feature Extraction (before cleaning)"
      ]
    },
    {
      "cell_type": "markdown",
      "metadata": {
        "id": "izHLrzYLo29C"
      },
      "source": [
        "Let us now construct a few features like:\n",
        " - ____freq_qid1____ = Frequency of qid1's\n",
        " - ____freq_qid2____ = Frequency of qid2's \n",
        " - ____q1len____ = Length of q1\n",
        " - ____q2len____ = Length of q2\n",
        " - ____q1_n_words____ = Number of words in Question 1\n",
        " - ____q2_n_words____ = Number of words in Question 2\n",
        " - ____word_Common____ = (Number of common unique words in Question 1 and Question 2)\n",
        " - ____word_Total____ =(Total num of words in Question 1 + Total num of words in Question 2)\n",
        " - ____word_share____ = (word_common)/(word_Total)\n",
        " - ____freq_q1+freq_q2____ = sum total of frequency of qid1 and qid2 \n",
        " - ____freq_q1-freq_q2____ = absolute difference of frequency of qid1 and qid2 "
      ]
    },
    {
      "cell_type": "code",
      "execution_count": null,
      "metadata": {
        "colab": {
          "base_uri": "https://localhost:8080/",
          "height": 704
        },
        "id": "jvKz-oazoRYa",
        "outputId": "8a4e3e22-5bfa-47b2-cf1f-b5f45963d467"
      },
      "outputs": [
        {
          "output_type": "execute_result",
          "data": {
            "text/plain": [
              "   id  qid1  qid2                                          question1  \\\n",
              "0   0     1     2  What is the step by step guide to invest in sh...   \n",
              "1   1     3     4  What is the story of Kohinoor (Koh-i-Noor) Dia...   \n",
              "2   2     5     6  How can I increase the speed of my internet co...   \n",
              "3   3     7     8  Why am I mentally very lonely? How can I solve...   \n",
              "4   4     9    10  Which one dissolve in water quikly sugar, salt...   \n",
              "\n",
              "                                           question2  is_duplicate  freq_qid1  \\\n",
              "0  What is the step by step guide to invest in sh...             0          1   \n",
              "1  What would happen if the Indian government sto...             0          4   \n",
              "2  How can Internet speed be increased by hacking...             0          1   \n",
              "3  Find the remainder when [math]23^{24}[/math] i...             0          1   \n",
              "4            Which fish would survive in salt water?             0          3   \n",
              "\n",
              "   freq_qid2  q1len  q2len  q1_n_words  q2_n_words  word_Common  word_Total  \\\n",
              "0          1     66     57          14          12         10.0        23.0   \n",
              "1          1     51     88           8          13          4.0        20.0   \n",
              "2          1     73     59          14          10          4.0        24.0   \n",
              "3          1     50     65          11           9          0.0        19.0   \n",
              "4          1     76     39          13           7          2.0        20.0   \n",
              "\n",
              "   word_share  freq_q1+q2  freq_q1-q2  \n",
              "0    0.434783           2           0  \n",
              "1    0.200000           5           3  \n",
              "2    0.166667           2           0  \n",
              "3    0.000000           2           0  \n",
              "4    0.100000           4           2  "
            ],
            "text/html": [
              "\n",
              "  <div id=\"df-af9cd638-0c27-465e-aac1-6ada47368e58\">\n",
              "    <div class=\"colab-df-container\">\n",
              "      <div>\n",
              "<style scoped>\n",
              "    .dataframe tbody tr th:only-of-type {\n",
              "        vertical-align: middle;\n",
              "    }\n",
              "\n",
              "    .dataframe tbody tr th {\n",
              "        vertical-align: top;\n",
              "    }\n",
              "\n",
              "    .dataframe thead th {\n",
              "        text-align: right;\n",
              "    }\n",
              "</style>\n",
              "<table border=\"1\" class=\"dataframe\">\n",
              "  <thead>\n",
              "    <tr style=\"text-align: right;\">\n",
              "      <th></th>\n",
              "      <th>id</th>\n",
              "      <th>qid1</th>\n",
              "      <th>qid2</th>\n",
              "      <th>question1</th>\n",
              "      <th>question2</th>\n",
              "      <th>is_duplicate</th>\n",
              "      <th>freq_qid1</th>\n",
              "      <th>freq_qid2</th>\n",
              "      <th>q1len</th>\n",
              "      <th>q2len</th>\n",
              "      <th>q1_n_words</th>\n",
              "      <th>q2_n_words</th>\n",
              "      <th>word_Common</th>\n",
              "      <th>word_Total</th>\n",
              "      <th>word_share</th>\n",
              "      <th>freq_q1+q2</th>\n",
              "      <th>freq_q1-q2</th>\n",
              "    </tr>\n",
              "  </thead>\n",
              "  <tbody>\n",
              "    <tr>\n",
              "      <th>0</th>\n",
              "      <td>0</td>\n",
              "      <td>1</td>\n",
              "      <td>2</td>\n",
              "      <td>What is the step by step guide to invest in sh...</td>\n",
              "      <td>What is the step by step guide to invest in sh...</td>\n",
              "      <td>0</td>\n",
              "      <td>1</td>\n",
              "      <td>1</td>\n",
              "      <td>66</td>\n",
              "      <td>57</td>\n",
              "      <td>14</td>\n",
              "      <td>12</td>\n",
              "      <td>10.0</td>\n",
              "      <td>23.0</td>\n",
              "      <td>0.434783</td>\n",
              "      <td>2</td>\n",
              "      <td>0</td>\n",
              "    </tr>\n",
              "    <tr>\n",
              "      <th>1</th>\n",
              "      <td>1</td>\n",
              "      <td>3</td>\n",
              "      <td>4</td>\n",
              "      <td>What is the story of Kohinoor (Koh-i-Noor) Dia...</td>\n",
              "      <td>What would happen if the Indian government sto...</td>\n",
              "      <td>0</td>\n",
              "      <td>4</td>\n",
              "      <td>1</td>\n",
              "      <td>51</td>\n",
              "      <td>88</td>\n",
              "      <td>8</td>\n",
              "      <td>13</td>\n",
              "      <td>4.0</td>\n",
              "      <td>20.0</td>\n",
              "      <td>0.200000</td>\n",
              "      <td>5</td>\n",
              "      <td>3</td>\n",
              "    </tr>\n",
              "    <tr>\n",
              "      <th>2</th>\n",
              "      <td>2</td>\n",
              "      <td>5</td>\n",
              "      <td>6</td>\n",
              "      <td>How can I increase the speed of my internet co...</td>\n",
              "      <td>How can Internet speed be increased by hacking...</td>\n",
              "      <td>0</td>\n",
              "      <td>1</td>\n",
              "      <td>1</td>\n",
              "      <td>73</td>\n",
              "      <td>59</td>\n",
              "      <td>14</td>\n",
              "      <td>10</td>\n",
              "      <td>4.0</td>\n",
              "      <td>24.0</td>\n",
              "      <td>0.166667</td>\n",
              "      <td>2</td>\n",
              "      <td>0</td>\n",
              "    </tr>\n",
              "    <tr>\n",
              "      <th>3</th>\n",
              "      <td>3</td>\n",
              "      <td>7</td>\n",
              "      <td>8</td>\n",
              "      <td>Why am I mentally very lonely? How can I solve...</td>\n",
              "      <td>Find the remainder when [math]23^{24}[/math] i...</td>\n",
              "      <td>0</td>\n",
              "      <td>1</td>\n",
              "      <td>1</td>\n",
              "      <td>50</td>\n",
              "      <td>65</td>\n",
              "      <td>11</td>\n",
              "      <td>9</td>\n",
              "      <td>0.0</td>\n",
              "      <td>19.0</td>\n",
              "      <td>0.000000</td>\n",
              "      <td>2</td>\n",
              "      <td>0</td>\n",
              "    </tr>\n",
              "    <tr>\n",
              "      <th>4</th>\n",
              "      <td>4</td>\n",
              "      <td>9</td>\n",
              "      <td>10</td>\n",
              "      <td>Which one dissolve in water quikly sugar, salt...</td>\n",
              "      <td>Which fish would survive in salt water?</td>\n",
              "      <td>0</td>\n",
              "      <td>3</td>\n",
              "      <td>1</td>\n",
              "      <td>76</td>\n",
              "      <td>39</td>\n",
              "      <td>13</td>\n",
              "      <td>7</td>\n",
              "      <td>2.0</td>\n",
              "      <td>20.0</td>\n",
              "      <td>0.100000</td>\n",
              "      <td>4</td>\n",
              "      <td>2</td>\n",
              "    </tr>\n",
              "  </tbody>\n",
              "</table>\n",
              "</div>\n",
              "      <button class=\"colab-df-convert\" onclick=\"convertToInteractive('df-af9cd638-0c27-465e-aac1-6ada47368e58')\"\n",
              "              title=\"Convert this dataframe to an interactive table.\"\n",
              "              style=\"display:none;\">\n",
              "        \n",
              "  <svg xmlns=\"http://www.w3.org/2000/svg\" height=\"24px\"viewBox=\"0 0 24 24\"\n",
              "       width=\"24px\">\n",
              "    <path d=\"M0 0h24v24H0V0z\" fill=\"none\"/>\n",
              "    <path d=\"M18.56 5.44l.94 2.06.94-2.06 2.06-.94-2.06-.94-.94-2.06-.94 2.06-2.06.94zm-11 1L8.5 8.5l.94-2.06 2.06-.94-2.06-.94L8.5 2.5l-.94 2.06-2.06.94zm10 10l.94 2.06.94-2.06 2.06-.94-2.06-.94-.94-2.06-.94 2.06-2.06.94z\"/><path d=\"M17.41 7.96l-1.37-1.37c-.4-.4-.92-.59-1.43-.59-.52 0-1.04.2-1.43.59L10.3 9.45l-7.72 7.72c-.78.78-.78 2.05 0 2.83L4 21.41c.39.39.9.59 1.41.59.51 0 1.02-.2 1.41-.59l7.78-7.78 2.81-2.81c.8-.78.8-2.07 0-2.86zM5.41 20L4 18.59l7.72-7.72 1.47 1.35L5.41 20z\"/>\n",
              "  </svg>\n",
              "      </button>\n",
              "      \n",
              "  <style>\n",
              "    .colab-df-container {\n",
              "      display:flex;\n",
              "      flex-wrap:wrap;\n",
              "      gap: 12px;\n",
              "    }\n",
              "\n",
              "    .colab-df-convert {\n",
              "      background-color: #E8F0FE;\n",
              "      border: none;\n",
              "      border-radius: 50%;\n",
              "      cursor: pointer;\n",
              "      display: none;\n",
              "      fill: #1967D2;\n",
              "      height: 32px;\n",
              "      padding: 0 0 0 0;\n",
              "      width: 32px;\n",
              "    }\n",
              "\n",
              "    .colab-df-convert:hover {\n",
              "      background-color: #E2EBFA;\n",
              "      box-shadow: 0px 1px 2px rgba(60, 64, 67, 0.3), 0px 1px 3px 1px rgba(60, 64, 67, 0.15);\n",
              "      fill: #174EA6;\n",
              "    }\n",
              "\n",
              "    [theme=dark] .colab-df-convert {\n",
              "      background-color: #3B4455;\n",
              "      fill: #D2E3FC;\n",
              "    }\n",
              "\n",
              "    [theme=dark] .colab-df-convert:hover {\n",
              "      background-color: #434B5C;\n",
              "      box-shadow: 0px 1px 3px 1px rgba(0, 0, 0, 0.15);\n",
              "      filter: drop-shadow(0px 1px 2px rgba(0, 0, 0, 0.3));\n",
              "      fill: #FFFFFF;\n",
              "    }\n",
              "  </style>\n",
              "\n",
              "      <script>\n",
              "        const buttonEl =\n",
              "          document.querySelector('#df-af9cd638-0c27-465e-aac1-6ada47368e58 button.colab-df-convert');\n",
              "        buttonEl.style.display =\n",
              "          google.colab.kernel.accessAllowed ? 'block' : 'none';\n",
              "\n",
              "        async function convertToInteractive(key) {\n",
              "          const element = document.querySelector('#df-af9cd638-0c27-465e-aac1-6ada47368e58');\n",
              "          const dataTable =\n",
              "            await google.colab.kernel.invokeFunction('convertToInteractive',\n",
              "                                                     [key], {});\n",
              "          if (!dataTable) return;\n",
              "\n",
              "          const docLinkHtml = 'Like what you see? Visit the ' +\n",
              "            '<a target=\"_blank\" href=https://colab.research.google.com/notebooks/data_table.ipynb>data table notebook</a>'\n",
              "            + ' to learn more about interactive tables.';\n",
              "          element.innerHTML = '';\n",
              "          dataTable['output_type'] = 'display_data';\n",
              "          await google.colab.output.renderOutput(dataTable, element);\n",
              "          const docLink = document.createElement('div');\n",
              "          docLink.innerHTML = docLinkHtml;\n",
              "          element.appendChild(docLink);\n",
              "        }\n",
              "      </script>\n",
              "    </div>\n",
              "  </div>\n",
              "  "
            ]
          },
          "metadata": {},
          "execution_count": 17
        }
      ],
      "source": [
        "if os.path.isfile('df_fe_without_preprocessing_train.csv'):\n",
        "    df = pd.read_csv(\"df_fe_without_preprocessing_train.csv\",encoding='latin-1')\n",
        "else:\n",
        "    df['freq_qid1'] = df.groupby('qid1')['qid1'].transform('count') \n",
        "    df['freq_qid2'] = df.groupby('qid2')['qid2'].transform('count')\n",
        "    df['q1len'] = df['question1'].str.len() \n",
        "    df['q2len'] = df['question2'].str.len()\n",
        "    df['q1_n_words'] = df['question1'].apply(lambda row: len(row.split(\" \")))\n",
        "    df['q2_n_words'] = df['question2'].apply(lambda row: len(row.split(\" \")))\n",
        "\n",
        "    def normalized_word_Common(row):\n",
        "        w1 = set(map(lambda word: word.lower().strip(), row['question1'].split(\" \")))\n",
        "        w2 = set(map(lambda word: word.lower().strip(), row['question2'].split(\" \")))    \n",
        "        return 1.0 * len(w1 & w2)\n",
        "    df['word_Common'] = df.apply(normalized_word_Common, axis=1)\n",
        "\n",
        "    def normalized_word_Total(row):\n",
        "        w1 = set(map(lambda word: word.lower().strip(), row['question1'].split(\" \")))\n",
        "        w2 = set(map(lambda word: word.lower().strip(), row['question2'].split(\" \")))    \n",
        "        return 1.0 * (len(w1) + len(w2))\n",
        "    df['word_Total'] = df.apply(normalized_word_Total, axis=1)\n",
        "\n",
        "    def normalized_word_share(row):\n",
        "        w1 = set(map(lambda word: word.lower().strip(), row['question1'].split(\" \")))\n",
        "        w2 = set(map(lambda word: word.lower().strip(), row['question2'].split(\" \")))    \n",
        "        return 1.0 * len(w1 & w2)/(len(w1) + len(w2))\n",
        "    df['word_share'] = df.apply(normalized_word_share, axis=1)\n",
        "\n",
        "    df['freq_q1+q2'] = df['freq_qid1']+df['freq_qid2']\n",
        "    df['freq_q1-q2'] = abs(df['freq_qid1']-df['freq_qid2'])\n",
        "\n",
        "    df.to_csv(\"df_fe_without_preprocessing_train.csv\", index=False)\n",
        "\n",
        "df.head()"
      ]
    },
    {
      "cell_type": "markdown",
      "source": [
        "<h3> Analysis of some of the extracted features </h3>"
      ],
      "metadata": {
        "id": "A3i_YUnTlOF9"
      }
    },
    {
      "cell_type": "markdown",
      "source": [
        "- Here are some questions have only one single words."
      ],
      "metadata": {
        "id": "2tFXY9uUlKRm"
      }
    },
    {
      "cell_type": "code",
      "execution_count": null,
      "metadata": {
        "colab": {
          "base_uri": "https://localhost:8080/"
        },
        "id": "5wVMibQ3sMx4",
        "outputId": "abb0b472-c6ac-4d5b-ecf5-9f165f7771e1"
      },
      "outputs": [
        {
          "output_type": "stream",
          "name": "stdout",
          "text": [
            "Minimum length of the questions in question1 :  1\n",
            "Minimum length of the questions in question2 : 1\n",
            "Number of Questions with minimum length [question1] : 66\n",
            "Number of Questions with minimum length [question2] : 22\n"
          ]
        }
      ],
      "source": [
        "print(\"Minimum length of the questions in question1 : \",min(df['q1_n_words']))\n",
        "print(\"Minimum length of the questions in question2 : {}\".format(min(df['q2_n_words'])))\n",
        "\n",
        "# print(\"Number of Questions with minimum length [question1] : {}\".format(train[train['q1_n_words'] == 1].shape[0])\n",
        "# print(\"Number of Questions with minimum length [question2] : {}\".format(train[train['q2_n_words'] == 1].shape[0])\n",
        "\n",
        "print(\"Number of Questions with minimum length [question1] :\", df[df['q1_n_words']== 1].shape[0])\n",
        "print(\"Number of Questions with minimum length [question2] :\", df[df['q2_n_words']== 1].shape[0])"
      ]
    },
    {
      "cell_type": "code",
      "execution_count": null,
      "metadata": {
        "colab": {
          "base_uri": "https://localhost:8080/",
          "height": 674
        },
        "id": "Xx4TQvmVt65c",
        "outputId": "e829ed9e-d63d-4b4d-94ef-0324821b19dc"
      },
      "outputs": [
        {
          "output_type": "stream",
          "name": "stderr",
          "text": [
            "/usr/local/lib/python3.7/dist-packages/seaborn/distributions.py:2619: FutureWarning:\n",
            "\n",
            "`distplot` is a deprecated function and will be removed in a future version. Please adapt your code to use either `displot` (a figure-level function with similar flexibility) or `histplot` (an axes-level function for histograms).\n",
            "\n",
            "/usr/local/lib/python3.7/dist-packages/seaborn/distributions.py:2619: FutureWarning:\n",
            "\n",
            "`distplot` is a deprecated function and will be removed in a future version. Please adapt your code to use either `displot` (a figure-level function with similar flexibility) or `histplot` (an axes-level function for histograms).\n",
            "\n"
          ]
        },
        {
          "output_type": "execute_result",
          "data": {
            "text/plain": [
              "<matplotlib.axes._subplots.AxesSubplot at 0x7f746e948110>"
            ]
          },
          "metadata": {},
          "execution_count": 19
        },
        {
          "output_type": "display_data",
          "data": {
            "text/plain": [
              "<Figure size 864x576 with 2 Axes>"
            ],
            "image/png": "[encoded data removed]"
          },
          "metadata": {
            "needs_background": "light"
          }
        }
      ],
      "source": [
        "plt.figure(figsize=(12, 8))\n",
        "\n",
        "plt.subplot(1,2,1)\n",
        "sb.violinplot(x = 'is_duplicate',  y = 'word_share', data=df)\n",
        "\n",
        "plt.subplot(1,2,2)\n",
        "sb.distplot(df[df['is_duplicate']==1.0]['word_share'],label='1',color='green')\n",
        "sb.distplot(df[df['is_duplicate']==0.0]['word_share'],label='0',color='blue')"
      ]
    },
    {
      "cell_type": "markdown",
      "source": [
        "- The distributions for normalized word_share have some overlap on the far right-hand side, i.e., there are quite a lot of questions with high word similarity\n",
        "- The average word share and Common no. of words of qid1 and qid2 is more when they are duplicate(Similar)"
      ],
      "metadata": {
        "id": "ZQMwjx2ylCjv"
      }
    },
    {
      "cell_type": "code",
      "execution_count": null,
      "metadata": {
        "colab": {
          "base_uri": "https://localhost:8080/",
          "height": 674
        },
        "id": "OyoY4R2_uxaW",
        "outputId": "8009f523-9a49-4ab0-9673-13de589c788d"
      },
      "outputs": [
        {
          "output_type": "stream",
          "name": "stderr",
          "text": [
            "/usr/local/lib/python3.7/dist-packages/seaborn/distributions.py:2619: FutureWarning:\n",
            "\n",
            "`distplot` is a deprecated function and will be removed in a future version. Please adapt your code to use either `displot` (a figure-level function with similar flexibility) or `histplot` (an axes-level function for histograms).\n",
            "\n",
            "/usr/local/lib/python3.7/dist-packages/seaborn/distributions.py:2619: FutureWarning:\n",
            "\n",
            "`distplot` is a deprecated function and will be removed in a future version. Please adapt your code to use either `displot` (a figure-level function with similar flexibility) or `histplot` (an axes-level function for histograms).\n",
            "\n"
          ]
        },
        {
          "output_type": "execute_result",
          "data": {
            "text/plain": [
              "<matplotlib.axes._subplots.AxesSubplot at 0x7f7469f47710>"
            ]
          },
          "metadata": {},
          "execution_count": 20
        },
        {
          "output_type": "display_data",
          "data": {
            "text/plain": [
              "<Figure size 864x576 with 2 Axes>"
            ],
            "image/png": "[encoded data removed]"
          },
          "metadata": {
            "needs_background": "light"
          }
        }
      ],
      "source": [
        "plt.figure(figsize=(12, 8))\n",
        "\n",
        "plt.subplot(1,2,1)\n",
        "sb.violinplot(x = 'is_duplicate',  y = 'word_Common', data=df)\n",
        "\n",
        "plt.subplot(1,2,2)\n",
        "sb.distplot(df[df['is_duplicate']==1.0]['word_Common'],label='1',color='green')\n",
        "sb.distplot(df[df['is_duplicate']==0.0]['word_Common'],label='0',color='blue')"
      ]
    },
    {
      "cell_type": "markdown",
      "source": [
        "<p> The distributions of the word_Common feature in similar and non-similar questions are highly overlapping </p>"
      ],
      "metadata": {
        "id": "2h_hafNMk89_"
      }
    }
  ],
  "metadata": {
    "colab": {
      "collapsed_sections": [],
      "name": "1_EDA_and_Basic_Feature_Extraction.ipynb",
      "provenance": []
    },
    "kernelspec": {
      "display_name": "Python 3",
      "name": "python3"
    },
    "language_info": {
      "name": "python"
    }
  },
  "nbformat": 4,
  "nbformat_minor": 0
}